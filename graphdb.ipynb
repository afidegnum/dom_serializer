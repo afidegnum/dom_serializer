{
 "cells": [
  {
   "cell_type": "code",
   "execution_count": 1,
   "id": "1b876cf1",
   "metadata": {
    "collapsed": false
   },
   "outputs": [],
   "source": [
    "import age\n",
    "from age.gen.ageParser import *\n",
    "GRAPH_NAME = \"text_test\"\n",
    "\n",
    "DSN = \"host=localhost port=5432 dbname=texttest user=afidegnum password=chou1979\"\n",
    "ag = age.connect(graph=GRAPH_NAME, dsn=DSN)\n",
    "\n",
    "\n"
   ]
  },
  {
   "cell_type": "code",
   "execution_count": 9,
   "id": "05c85abb",
   "metadata": {
    "collapsed": false
   },
   "outputs": [],
   "source": [
    "import json\n",
    "from lxml import etree\n",
    "from itertools import tee\n",
    "from lxml import html\n",
    "bare = \"/home/afidegnum/projects/prototypes/apps/mydemo/resources/bare.html\"\n",
    "dom_tree = html.parse(bare)\n",
    "from bs4 import BeautifulSoup, Tag"
   ]
  },
  {
   "cell_type": "code",
   "execution_count": 11,
   "id": "083ac80c",
   "metadata": {
    "collapsed": false
   },
   "outputs": [],
   "source": [
    "import psycopg2 \n",
    "import age\n",
    "\n",
    "GRAPH_NAME = \"text_test\"\n",
    "DSN = \"host=localhost port=5432 dbname=texttest user=afidegnum password=chou1979\"\n",
    "conn = psycopg2.connect(DSN)\n",
    "\n",
    "age.setUpAge(conn, GRAPH_NAME)\n"
   ]
  },
  {
   "cell_type": "code",
   "execution_count": 12,
   "id": "01057dcc",
   "metadata": {
    "collapsed": false
   },
   "outputs": [
    {
     "name": "stdout",
     "output_type": "stream",
     "text": [
      "not all arguments converted during string formatting\n"
     ]
    }
   ],
   "source": [
    "def get_nodes(tag):\n",
    "    \"\"\" Get the list of nodes.\"\"\"\n",
    "    with conn.cursor() as cursor:\n",
    "        try :\n",
    "            cursor.execute(\"\"\"\n",
    "            SELECT * from cypher(%s, $$\n",
    "            MATCH (V:node)-[connect]->(V2:node)\n",
    "\t\t\t      WITH V as parent, COLLECT(V2) as children\n",
    "            RETURN {parent: parent, children: children}\n",
    "            $$) as (map agtype);\n",
    "\n",
    "            \"\"\", (GRAPH_NAME, tag,))\n",
    "            \n",
    "            rows = cursor.fetchall()\n",
    "            \n",
    "            r = [r[0] for r in rows]\n",
    "            return(r)\n",
    "                    \n",
    "        except Exception as ex:\n",
    "            print(ex)\n",
    "            conn.rollback()\n",
    "get_nodes(\"html\")"
   ]
  },
  {
   "cell_type": "code",
   "execution_count": 3,
   "id": "292c9423",
   "metadata": {
    "collapsed": false
   },
   "outputs": [
    {
     "name": "stdout",
     "output_type": "stream",
     "text": [
      "__init__() missing 1 required positional argument: 'cause'\n"
     ]
    },
    {
     "name": "stderr",
     "output_type": "stream",
     "text": [
      "line 1:189 mismatched input '::vertex' expecting '::edge'\n",
      "line 1:408 mismatched input '::vertex' expecting '::edge'\n",
      "line 1:682 mismatched input '::vertex' expecting '::edge'\n",
      "line 1:910 mismatched input '::vertex' expecting '::edge'\n",
      "line 1:1138 mismatched input '::vertex' expecting '::edge'\n",
      "line 1:1370 mismatched input '::vertex' expecting '::edge'\n",
      "line 1:1602 mismatched input '::vertex' expecting '::edge'\n",
      "line 1:1832 mismatched input '::vertex' expecting '::edge'\n",
      "line 1:2026 mismatched input '::vertex' expecting '::edge'\n",
      "line 1:2239 mismatched input '::vertex' expecting '::edge'\n",
      "line 1:2433 mismatched input '::vertex' expecting '::edge'\n"
     ]
    }
   ],
   "source": [
    "### Final\n",
    "# soup = BeautifulSoup()\n",
    "# cursor = ag.execCypher(\"MATCH (n:node {tag: 'html'}) RETURN n\")    \n",
    "# t = [x[0].id for x in cursor]\n",
    "# print(t[0])\n",
    "\n",
    "\n",
    "\n",
    "\n",
    "\n",
    "def get_tree(n_id):\n",
    "    \"\"\" Get the trees\"\"\"\n",
    "    with conn.cursor() as cursor:\n",
    "        try :                    \n",
    "            cursor.execute(\"\"\"\n",
    "            SELECT * from cypher(%s, $$\n",
    "            MATCH (V:node)-[r:connect]->(V2:node)\n",
    "\t\t\tWITH   COLLECT(V2) as children\n",
    "          RETURN  children\n",
    "$$) as (children agtype);\n",
    "            \"\"\", (GRAPH_NAME,))\n",
    "        \n",
    "            for row in cursor:\n",
    "                print(row)\n",
    "                            \n",
    "        except Exception as ex:\n",
    "            print(ex)\n",
    "            conn.rollback()\n",
    "\n",
    "\n",
    "node_id = 844424930131969\n",
    "                                      \n",
    "get_tree(node_id)\n",
    "\n",
    "\n",
    "# for b in g:\n",
    "#     print(b)\n",
    "\n",
    "\n",
    "# file_soup = soup.prettify()\n",
    "# with open(\"helloworld.html\", \"w\") as file:\n",
    "#     file.write(str(file_soup))"
   ]
  },
  {
   "cell_type": "code",
   "execution_count": 63,
   "id": "c3642440",
   "metadata": {
    "collapsed": false
   },
   "outputs": [],
   "source": [
    "ag.execCypher(\"CREATE (n:node {name: 'Joe', attrib: {myclass: 'id', myid: 'this_id'}})\")\n",
    "ag.commit()"
   ]
  },
  {
   "cell_type": "code",
   "execution_count": null,
   "id": "f6879fb0",
   "metadata": {
    "collapsed": false
   },
   "outputs": [],
   "source": [
    "import json\n",
    "def handleElement(parentid , element):\n",
    "    # TODO add support for comments. for now, we are stripping all the comments out. \n",
    "    x = {key:value for (key,value) in element.attrib.items()}\n",
    "    y = json.dumps(x if x else None)\n",
    "    cursor = ag.execCypher(\"CREATE (t:node {tag: %s, attrib: %s} ) RETURN id(t)\", params=(element.tag, y,))        \n",
    "    eid = cursor.fetchone()[0]  # get last inserted ID \n",
    "    print(y)\n",
    "    ag.commit()\n",
    "    # print(\"eid:\", eid)\n",
    "\n",
    "    if parentid :\n",
    "        cx = ag.execCypher(\"MATCH (p:node),(k:node) WHERE id(p) = %s AND id(k) = %s CREATE (p)<-[:connect {name: p.name+ '<-'+k.name}]-(k)\", params=(eid, parentid,))\n",
    "        ag.commit()\n",
    "        print(\"eid:\", eid, \" --> parent:\", parentid)\n",
    "\n",
    "    for child in element.iterchildren():\n",
    "         handleElement(eid, child)\n",
    "\n",
    "x = dom_tree.getroot()\n",
    "handleElement(None, x)"
   ]
  },
  {
   "cell_type": "markdown",
   "id": "1c131f38",
   "metadata": {
    "collapsed": false
   },
   "source": [
    "SELECT * from cypher('text_test', $$\n",
    "          MATCH (V:node {tag: 'html'})-[R:connect]-(V2)\n",
    "          RETURN V2\n",
    "$$) as (V2 agtype);"
   ]
  },
  {
   "cell_type": "code",
   "execution_count": null,
   "id": "bb96d1fc",
   "metadata": {
    "collapsed": false
   },
   "outputs": [],
   "source": [
    "def node_tree(parentid , element):\n",
    "    if parentid:\n",
    "       x = {f\"t_{key}\":value for (key,value) in element.attrib.items()}\n",
    "       print(x if x else \"\")\n",
    "    for child in element.iterchildren():\n",
    "         node_tree(element, child)\n",
    "\n",
    "x = dom_tree.getroot()\n",
    "node_tree(None, x)"
   ]
  },
  {
   "cell_type": "code",
   "execution_count": 17,
   "id": "3d219cac",
   "metadata": {
    "collapsed": false
   },
   "outputs": [
    {
     "name": "stdout",
     "output_type": "stream",
     "text": [
      "({label:node, id:844424930131987, properties:{tag: div, attrib: {\\\"id\\\": \\\"second\\\", \\\"class\\\": \\\"below\\\"}, }}::VERTEX, [{label:node, id:844424930131988, properties:{tag: div, attrib: {\\\"class\\\": \\\"inner\\\"}, }}::VERTEX]::PATH)\n"
     ]
    },
    {
     "name": "stderr",
     "output_type": "stream",
     "text": [
      "line 1:116 missing '::path' at '<EOF>'\n",
      "line 1:265 mismatched input '::vertex' expecting '::edge'\n",
      "line 1:388 missing '::path' at '<EOF>'\n"
     ]
    },
    {
     "ename": "TypeError",
     "evalue": "__init__() missing 1 required positional argument: 'cause'",
     "output_type": "error",
     "traceback": [
      "\u001b[0;31m---------------------------------------------------------------------------\u001b[0m",
      "\u001b[0;31mKeyError\u001b[0m                                  Traceback (most recent call last)",
      "\u001b[0;32m~/.virtualenvs/orgs/lib/python3.9/site-packages/age/builder.py\u001b[0m in \u001b[0;36mparseAgeValue\u001b[0;34m(value, cursor)\u001b[0m\n\u001b[1;32m     50\u001b[0m     \u001b[0;32mtry\u001b[0m\u001b[0;34m:\u001b[0m\u001b[0;34m\u001b[0m\u001b[0;34m\u001b[0m\u001b[0m\n\u001b[0;32m---> 51\u001b[0;31m         \u001b[0;32mreturn\u001b[0m \u001b[0mresultHandler\u001b[0m\u001b[0;34m.\u001b[0m\u001b[0mparse\u001b[0m\u001b[0;34m(\u001b[0m\u001b[0mvalue\u001b[0m\u001b[0;34m)\u001b[0m\u001b[0;34m\u001b[0m\u001b[0;34m\u001b[0m\u001b[0m\n\u001b[0m\u001b[1;32m     52\u001b[0m     \u001b[0;32mexcept\u001b[0m \u001b[0mException\u001b[0m \u001b[0;32mas\u001b[0m \u001b[0mex\u001b[0m\u001b[0;34m:\u001b[0m\u001b[0;34m\u001b[0m\u001b[0;34m\u001b[0m\u001b[0m\n",
      "\u001b[0;32m~/.virtualenvs/orgs/lib/python3.9/site-packages/age/builder.py\u001b[0m in \u001b[0;36mparse\u001b[0;34m(self, ageData)\u001b[0m\n\u001b[1;32m     65\u001b[0m         \u001b[0mtree\u001b[0m \u001b[0;34m=\u001b[0m \u001b[0mself\u001b[0m\u001b[0;34m.\u001b[0m\u001b[0mparser\u001b[0m\u001b[0;34m.\u001b[0m\u001b[0mageout\u001b[0m\u001b[0;34m(\u001b[0m\u001b[0;34m)\u001b[0m\u001b[0;34m\u001b[0m\u001b[0;34m\u001b[0m\u001b[0m\n\u001b[0;32m---> 66\u001b[0;31m         \u001b[0mparsed\u001b[0m \u001b[0;34m=\u001b[0m \u001b[0mtree\u001b[0m\u001b[0;34m.\u001b[0m\u001b[0maccept\u001b[0m\u001b[0;34m(\u001b[0m\u001b[0mself\u001b[0m\u001b[0;34m.\u001b[0m\u001b[0mvisitor\u001b[0m\u001b[0;34m)\u001b[0m\u001b[0;34m\u001b[0m\u001b[0;34m\u001b[0m\u001b[0m\n\u001b[0m\u001b[1;32m     67\u001b[0m         \u001b[0;32mreturn\u001b[0m \u001b[0mparsed\u001b[0m\u001b[0;34m\u001b[0m\u001b[0;34m\u001b[0m\u001b[0m\n",
      "\u001b[0;32m~/.virtualenvs/orgs/lib/python3.9/site-packages/age/gen/ageParser.py\u001b[0m in \u001b[0;36maccept\u001b[0;34m(self, visitor)\u001b[0m\n\u001b[1;32m    143\u001b[0m             \u001b[0;32mif\u001b[0m \u001b[0mhasattr\u001b[0m\u001b[0;34m(\u001b[0m \u001b[0mvisitor\u001b[0m\u001b[0;34m,\u001b[0m \u001b[0;34m\"visitAgeout\"\u001b[0m \u001b[0;34m)\u001b[0m\u001b[0;34m:\u001b[0m\u001b[0;34m\u001b[0m\u001b[0;34m\u001b[0m\u001b[0m\n\u001b[0;32m--> 144\u001b[0;31m                 \u001b[0;32mreturn\u001b[0m \u001b[0mvisitor\u001b[0m\u001b[0;34m.\u001b[0m\u001b[0mvisitAgeout\u001b[0m\u001b[0;34m(\u001b[0m\u001b[0mself\u001b[0m\u001b[0;34m)\u001b[0m\u001b[0;34m\u001b[0m\u001b[0;34m\u001b[0m\u001b[0m\n\u001b[0m\u001b[1;32m    145\u001b[0m             \u001b[0;32melse\u001b[0m\u001b[0;34m:\u001b[0m\u001b[0;34m\u001b[0m\u001b[0;34m\u001b[0m\u001b[0m\n",
      "\u001b[0;32m~/.virtualenvs/orgs/lib/python3.9/site-packages/age/builder.py\u001b[0m in \u001b[0;36mvisitAgeout\u001b[0;34m(self, ctx)\u001b[0m\n\u001b[1;32m     84\u001b[0m     \u001b[0;32mdef\u001b[0m \u001b[0mvisitAgeout\u001b[0m\u001b[0;34m(\u001b[0m\u001b[0mself\u001b[0m\u001b[0;34m,\u001b[0m \u001b[0mctx\u001b[0m\u001b[0;34m:\u001b[0m\u001b[0mageParser\u001b[0m\u001b[0;34m.\u001b[0m\u001b[0mAgeoutContext\u001b[0m\u001b[0;34m)\u001b[0m\u001b[0;34m:\u001b[0m\u001b[0;34m\u001b[0m\u001b[0;34m\u001b[0m\u001b[0m\n\u001b[0;32m---> 85\u001b[0;31m         \u001b[0;32mreturn\u001b[0m \u001b[0mself\u001b[0m\u001b[0;34m.\u001b[0m\u001b[0mvisitChildren\u001b[0m\u001b[0;34m(\u001b[0m\u001b[0mctx\u001b[0m\u001b[0;34m)\u001b[0m\u001b[0;34m\u001b[0m\u001b[0;34m\u001b[0m\u001b[0m\n\u001b[0m\u001b[1;32m     86\u001b[0m \u001b[0;34m\u001b[0m\u001b[0m\n",
      "\u001b[0;32m~/.virtualenvs/orgs/lib/python3.9/site-packages/antlr4/tree/Tree.py\u001b[0m in \u001b[0;36mvisitChildren\u001b[0;34m(self, node)\u001b[0m\n\u001b[1;32m     43\u001b[0m             \u001b[0mc\u001b[0m \u001b[0;34m=\u001b[0m \u001b[0mnode\u001b[0m\u001b[0;34m.\u001b[0m\u001b[0mgetChild\u001b[0m\u001b[0;34m(\u001b[0m\u001b[0mi\u001b[0m\u001b[0;34m)\u001b[0m\u001b[0;34m\u001b[0m\u001b[0;34m\u001b[0m\u001b[0m\n\u001b[0;32m---> 44\u001b[0;31m             \u001b[0mchildResult\u001b[0m \u001b[0;34m=\u001b[0m \u001b[0mc\u001b[0m\u001b[0;34m.\u001b[0m\u001b[0maccept\u001b[0m\u001b[0;34m(\u001b[0m\u001b[0mself\u001b[0m\u001b[0;34m)\u001b[0m\u001b[0;34m\u001b[0m\u001b[0;34m\u001b[0m\u001b[0m\n\u001b[0m\u001b[1;32m     45\u001b[0m             \u001b[0mresult\u001b[0m \u001b[0;34m=\u001b[0m \u001b[0mself\u001b[0m\u001b[0;34m.\u001b[0m\u001b[0maggregateResult\u001b[0m\u001b[0;34m(\u001b[0m\u001b[0mresult\u001b[0m\u001b[0;34m,\u001b[0m \u001b[0mchildResult\u001b[0m\u001b[0;34m)\u001b[0m\u001b[0;34m\u001b[0m\u001b[0;34m\u001b[0m\u001b[0m\n",
      "\u001b[0;32m~/.virtualenvs/orgs/lib/python3.9/site-packages/age/gen/ageParser.py\u001b[0m in \u001b[0;36maccept\u001b[0;34m(self, visitor)\u001b[0m\n\u001b[1;32m    332\u001b[0m             \u001b[0;32mif\u001b[0m \u001b[0mhasattr\u001b[0m\u001b[0;34m(\u001b[0m \u001b[0mvisitor\u001b[0m\u001b[0;34m,\u001b[0m \u001b[0;34m\"visitPath\"\u001b[0m \u001b[0;34m)\u001b[0m\u001b[0;34m:\u001b[0m\u001b[0;34m\u001b[0m\u001b[0;34m\u001b[0m\u001b[0m\n\u001b[0;32m--> 333\u001b[0;31m                 \u001b[0;32mreturn\u001b[0m \u001b[0mvisitor\u001b[0m\u001b[0;34m.\u001b[0m\u001b[0mvisitPath\u001b[0m\u001b[0;34m(\u001b[0m\u001b[0mself\u001b[0m\u001b[0;34m)\u001b[0m\u001b[0;34m\u001b[0m\u001b[0;34m\u001b[0m\u001b[0m\n\u001b[0m\u001b[1;32m    334\u001b[0m             \u001b[0;32melse\u001b[0m\u001b[0;34m:\u001b[0m\u001b[0;34m\u001b[0m\u001b[0;34m\u001b[0m\u001b[0m\n",
      "\u001b[0;32m~/.virtualenvs/orgs/lib/python3.9/site-packages/age/builder.py\u001b[0m in \u001b[0;36mvisitPath\u001b[0;34m(self, ctx)\u001b[0m\n\u001b[1;32m    133\u001b[0m             \u001b[0;32mif\u001b[0m \u001b[0misinstance\u001b[0m\u001b[0;34m(\u001b[0m\u001b[0mchild\u001b[0m\u001b[0;34m,\u001b[0m \u001b[0mageParser\u001b[0m\u001b[0;34m.\u001b[0m\u001b[0mEdgeContext\u001b[0m\u001b[0;34m)\u001b[0m\u001b[0;34m:\u001b[0m\u001b[0;34m\u001b[0m\u001b[0;34m\u001b[0m\u001b[0m\n\u001b[0;32m--> 134\u001b[0;31m                 \u001b[0mchildren\u001b[0m\u001b[0;34m.\u001b[0m\u001b[0mappend\u001b[0m\u001b[0;34m(\u001b[0m\u001b[0mchild\u001b[0m\u001b[0;34m.\u001b[0m\u001b[0maccept\u001b[0m\u001b[0;34m(\u001b[0m\u001b[0mself\u001b[0m\u001b[0;34m)\u001b[0m\u001b[0;34m)\u001b[0m\u001b[0;34m\u001b[0m\u001b[0;34m\u001b[0m\u001b[0m\n\u001b[0m\u001b[1;32m    135\u001b[0m \u001b[0;34m\u001b[0m\u001b[0m\n",
      "\u001b[0;32m~/.virtualenvs/orgs/lib/python3.9/site-packages/age/gen/ageParser.py\u001b[0m in \u001b[0;36maccept\u001b[0;34m(self, visitor)\u001b[0m\n\u001b[1;32m    270\u001b[0m             \u001b[0;32mif\u001b[0m \u001b[0mhasattr\u001b[0m\u001b[0;34m(\u001b[0m \u001b[0mvisitor\u001b[0m\u001b[0;34m,\u001b[0m \u001b[0;34m\"visitEdge\"\u001b[0m \u001b[0;34m)\u001b[0m\u001b[0;34m:\u001b[0m\u001b[0;34m\u001b[0m\u001b[0;34m\u001b[0m\u001b[0m\n\u001b[0;32m--> 271\u001b[0;31m                 \u001b[0;32mreturn\u001b[0m \u001b[0mvisitor\u001b[0m\u001b[0;34m.\u001b[0m\u001b[0mvisitEdge\u001b[0m\u001b[0;34m(\u001b[0m\u001b[0mself\u001b[0m\u001b[0;34m)\u001b[0m\u001b[0;34m\u001b[0m\u001b[0;34m\u001b[0m\u001b[0m\n\u001b[0m\u001b[1;32m    272\u001b[0m             \u001b[0;32melse\u001b[0m\u001b[0;34m:\u001b[0m\u001b[0;34m\u001b[0m\u001b[0;34m\u001b[0m\u001b[0m\n",
      "\u001b[0;32m~/.virtualenvs/orgs/lib/python3.9/site-packages/age/builder.py\u001b[0m in \u001b[0;36mvisitEdge\u001b[0;34m(self, ctx)\u001b[0m\n\u001b[1;32m    117\u001b[0m         \u001b[0medge\u001b[0m\u001b[0;34m.\u001b[0m\u001b[0mlabel\u001b[0m \u001b[0;34m=\u001b[0m \u001b[0mdict\u001b[0m\u001b[0;34m[\u001b[0m\u001b[0;34m\"label\"\u001b[0m\u001b[0;34m]\u001b[0m\u001b[0;34m\u001b[0m\u001b[0;34m\u001b[0m\u001b[0m\n\u001b[0;32m--> 118\u001b[0;31m         \u001b[0medge\u001b[0m\u001b[0;34m.\u001b[0m\u001b[0mend_id\u001b[0m \u001b[0;34m=\u001b[0m \u001b[0mdict\u001b[0m\u001b[0;34m[\u001b[0m\u001b[0;34m\"end_id\"\u001b[0m\u001b[0;34m]\u001b[0m\u001b[0;34m\u001b[0m\u001b[0;34m\u001b[0m\u001b[0m\n\u001b[0m\u001b[1;32m    119\u001b[0m         \u001b[0medge\u001b[0m\u001b[0;34m.\u001b[0m\u001b[0mstart_id\u001b[0m \u001b[0;34m=\u001b[0m \u001b[0mdict\u001b[0m\u001b[0;34m[\u001b[0m\u001b[0;34m\"start_id\"\u001b[0m\u001b[0;34m]\u001b[0m\u001b[0;34m\u001b[0m\u001b[0;34m\u001b[0m\u001b[0m\n",
      "\u001b[0;31mKeyError\u001b[0m: 'end_id'",
      "\nDuring handling of the above exception, another exception occurred:\n",
      "\u001b[0;31mTypeError\u001b[0m                                 Traceback (most recent call last)",
      "\u001b[0;32m/tmp/ipykernel_218855/167246004.py\u001b[0m in \u001b[0;36m<module>\u001b[0;34m\u001b[0m\n\u001b[1;32m      5\u001b[0m         \u001b[0;31m#graph_nodes(c[0].id)\u001b[0m\u001b[0;34m\u001b[0m\u001b[0;34m\u001b[0m\u001b[0m\n\u001b[1;32m      6\u001b[0m \u001b[0;34m\u001b[0m\u001b[0m\n\u001b[0;32m----> 7\u001b[0;31m \u001b[0mgraph_one\u001b[0m\u001b[0;34m(\u001b[0m\u001b[0;34m)\u001b[0m\u001b[0;34m\u001b[0m\u001b[0;34m\u001b[0m\u001b[0m\n\u001b[0m",
      "\u001b[0;32m/tmp/ipykernel_218855/167246004.py\u001b[0m in \u001b[0;36mgraph_one\u001b[0;34m()\u001b[0m\n\u001b[1;32m      1\u001b[0m \u001b[0;32mdef\u001b[0m \u001b[0mgraph_one\u001b[0m\u001b[0;34m(\u001b[0m\u001b[0;34m)\u001b[0m\u001b[0;34m:\u001b[0m\u001b[0;34m\u001b[0m\u001b[0;34m\u001b[0m\u001b[0m\n\u001b[1;32m      2\u001b[0m     \u001b[0mchildren\u001b[0m \u001b[0;34m=\u001b[0m \u001b[0mag\u001b[0m\u001b[0;34m.\u001b[0m\u001b[0mexecCypher\u001b[0m\u001b[0;34m(\u001b[0m\u001b[0;34m\"MATCH (V:node)-[connect]->(V2:node) WITH V as parent, COLLECT(V2) as children RETURN parent, children\"\u001b[0m\u001b[0;34m,\u001b[0m \u001b[0mcols\u001b[0m\u001b[0;34m=\u001b[0m\u001b[0;34m[\u001b[0m\u001b[0;34m\"a agtype\"\u001b[0m\u001b[0;34m,\u001b[0m \u001b[0;34m\"b agtype\"\u001b[0m\u001b[0;34m]\u001b[0m\u001b[0;34m)\u001b[0m\u001b[0;34m\u001b[0m\u001b[0;34m\u001b[0m\u001b[0m\n\u001b[0;32m----> 3\u001b[0;31m     \u001b[0;32mfor\u001b[0m \u001b[0mc\u001b[0m \u001b[0;32min\u001b[0m \u001b[0mchildren\u001b[0m\u001b[0;34m:\u001b[0m\u001b[0;34m\u001b[0m\u001b[0;34m\u001b[0m\u001b[0m\n\u001b[0m\u001b[1;32m      4\u001b[0m         \u001b[0mprint\u001b[0m\u001b[0;34m(\u001b[0m\u001b[0mc\u001b[0m\u001b[0;34m)\u001b[0m\u001b[0;34m\u001b[0m\u001b[0;34m\u001b[0m\u001b[0m\n\u001b[1;32m      5\u001b[0m         \u001b[0;31m#graph_nodes(c[0].id)\u001b[0m\u001b[0;34m\u001b[0m\u001b[0;34m\u001b[0m\u001b[0m\n",
      "\u001b[0;32m~/.virtualenvs/orgs/lib/python3.9/site-packages/age/builder.py\u001b[0m in \u001b[0;36mparseAgeValue\u001b[0;34m(value, cursor)\u001b[0m\n\u001b[1;32m     51\u001b[0m         \u001b[0;32mreturn\u001b[0m \u001b[0mresultHandler\u001b[0m\u001b[0;34m.\u001b[0m\u001b[0mparse\u001b[0m\u001b[0;34m(\u001b[0m\u001b[0mvalue\u001b[0m\u001b[0;34m)\u001b[0m\u001b[0;34m\u001b[0m\u001b[0;34m\u001b[0m\u001b[0m\n\u001b[1;32m     52\u001b[0m     \u001b[0;32mexcept\u001b[0m \u001b[0mException\u001b[0m \u001b[0;32mas\u001b[0m \u001b[0mex\u001b[0m\u001b[0;34m:\u001b[0m\u001b[0;34m\u001b[0m\u001b[0;34m\u001b[0m\u001b[0m\n\u001b[0;32m---> 53\u001b[0;31m         \u001b[0;32mraise\u001b[0m \u001b[0mAGTypeError\u001b[0m\u001b[0;34m(\u001b[0m\u001b[0mvalue\u001b[0m\u001b[0;34m)\u001b[0m\u001b[0;34m\u001b[0m\u001b[0;34m\u001b[0m\u001b[0m\n\u001b[0m\u001b[1;32m     54\u001b[0m \u001b[0;34m\u001b[0m\u001b[0m\n\u001b[1;32m     55\u001b[0m \u001b[0;32mclass\u001b[0m \u001b[0mAntlr4ResultHandler\u001b[0m\u001b[0;34m(\u001b[0m\u001b[0mResultHandler\u001b[0m\u001b[0;34m)\u001b[0m\u001b[0;34m:\u001b[0m\u001b[0;34m\u001b[0m\u001b[0;34m\u001b[0m\u001b[0m\n",
      "\u001b[0;31mTypeError\u001b[0m: __init__() missing 1 required positional argument: 'cause'"
     ]
    }
   ],
   "source": [
    "def graph_one():\n",
    "    children = ag.execCypher(\"MATCH (V:node)-[connect]->(V2:node) WITH V as parent, COLLECT(V2) as children RETURN parent, children\", cols=[\"a agtype\", \"b agtype\"])\n",
    "    for c in children:\n",
    "        print(c)\n",
    "        #graph_nodes(c[0].id)\n",
    "\n",
    "graph_one()"
   ]
  },
  {
   "cell_type": "code",
   "execution_count": null,
   "id": "4e619def",
   "metadata": {
    "collapsed": false
   },
   "outputs": [],
   "source": []
  },
  {
   "cell_type": "code",
   "execution_count": 21,
   "id": "833c361a",
   "metadata": {
    "collapsed": false
   },
   "outputs": [
    {
     "name": "stdout",
     "output_type": "stream",
     "text": [
      "844424930131969\n"
     ]
    },
    {
     "data": {
      "text/plain": [
       "<Element 'head' at 0x7f004cfa8c20>"
      ]
     },
     "execution_count": 21,
     "metadata": {},
     "output_type": "execute_result"
    }
   ],
   "source": [
    "import xml.etree.ElementTree as ET\n",
    "\n",
    "def xml_nodes(t_id, parent=None):    \n",
    "    children = ag.execCypher(\"MATCH (v:node)-[R:connect]->(V2) WHERE id(v) = %s RETURN V2\", params=(t_id,))\n",
    "    for c in children:\n",
    "        if parent is None:\n",
    "            parent = el = ET.Element(c[0]['tag'])\n",
    "        else:\n",
    "            el = ET.SubElement(parent, c[0]['tag'])\n",
    "        xml_nodes(c[0].id, el)\n",
    "    return parent\n",
    "\n",
    "cursor = ag.execCypher(\"MATCH (n:node {tag: 'html'}) RETURN n\")    \n",
    "t = [x[0].id for x in cursor]\n",
    "print(t[0])\n",
    "xml_nodes(t[0], None)"
   ]
  },
  {
   "cell_type": "code",
   "execution_count": 28,
   "id": "e05f5df8",
   "metadata": {
    "collapsed": false
   },
   "outputs": [
    {
     "ename": "SqlExcutionError",
     "evalue": "(\"Excution ERR[function cypher(unknown, unknown) does not exist\\nLINE 1: SELECT * from cypher('text_test', $$ MATCH (n:node {tag: 'ht...\\n                      ^\\nHINT:  No function matches the given name and argument types. You might need to add explicit type casts.\\n](SELECT * from cypher('text_test', $$ MATCH (n:node {tag: 'html'}) RETURN n $$) as (v agtype);)\", UndefinedFunction(\"function cypher(unknown, unknown) does not exist\\nLINE 1: SELECT * from cypher('text_test', $$ MATCH (n:node {tag: 'ht...\\n                      ^\\nHINT:  No function matches the given name and argument types. You might need to add explicit type casts.\\n\"))",
     "output_type": "error",
     "traceback": [
      "\u001b[0;31m---------------------------------------------------------------------------\u001b[0m",
      "\u001b[0;31mUndefinedFunction\u001b[0m                         Traceback (most recent call last)",
      "\u001b[0;32m~/.virtualenvs/orgs/lib/python3.9/site-packages/age/age.py\u001b[0m in \u001b[0;36mexecCypher\u001b[0;34m(conn, graphName, cypherStmt, cols, params)\u001b[0m\n\u001b[1;32m    106\u001b[0m     \u001b[0;32mtry\u001b[0m\u001b[0;34m:\u001b[0m\u001b[0;34m\u001b[0m\u001b[0;34m\u001b[0m\u001b[0m\n\u001b[0;32m--> 107\u001b[0;31m         \u001b[0mcursor\u001b[0m\u001b[0;34m.\u001b[0m\u001b[0mexecute\u001b[0m\u001b[0;34m(\u001b[0m\u001b[0mstmt\u001b[0m\u001b[0;34m,\u001b[0m \u001b[0mparams\u001b[0m\u001b[0;34m)\u001b[0m\u001b[0;34m\u001b[0m\u001b[0;34m\u001b[0m\u001b[0m\n\u001b[0m\u001b[1;32m    108\u001b[0m         \u001b[0;32mreturn\u001b[0m \u001b[0mcursor\u001b[0m\u001b[0;34m\u001b[0m\u001b[0;34m\u001b[0m\u001b[0m\n",
      "\u001b[0;31mUndefinedFunction\u001b[0m: function cypher(unknown, unknown) does not exist\nLINE 1: SELECT * from cypher('text_test', $$ MATCH (n:node {tag: 'ht...\n                      ^\nHINT:  No function matches the given name and argument types. You might need to add explicit type casts.\n",
      "\nDuring handling of the above exception, another exception occurred:\n",
      "\u001b[0;31mSqlExcutionError\u001b[0m                          Traceback (most recent call last)",
      "\u001b[0;32m/tmp/ipykernel_148424/2600215101.py\u001b[0m in \u001b[0;36m<module>\u001b[0;34m\u001b[0m\n\u001b[1;32m      1\u001b[0m \u001b[0msoup\u001b[0m \u001b[0;34m=\u001b[0m \u001b[0mBeautifulSoup\u001b[0m\u001b[0;34m(\u001b[0m\u001b[0;34m)\u001b[0m\u001b[0;34m\u001b[0m\u001b[0;34m\u001b[0m\u001b[0m\n\u001b[1;32m      2\u001b[0m \u001b[0;34m\u001b[0m\u001b[0m\n\u001b[0;32m----> 3\u001b[0;31m \u001b[0mcursor\u001b[0m \u001b[0;34m=\u001b[0m \u001b[0mag\u001b[0m\u001b[0;34m.\u001b[0m\u001b[0mexecCypher\u001b[0m\u001b[0;34m(\u001b[0m\u001b[0;34m\"MATCH (n:node {tag: 'html'}) RETURN n\"\u001b[0m\u001b[0;34m)\u001b[0m\u001b[0;34m\u001b[0m\u001b[0;34m\u001b[0m\u001b[0m\n\u001b[0m\u001b[1;32m      4\u001b[0m \u001b[0mt\u001b[0m \u001b[0;34m=\u001b[0m \u001b[0;34m[\u001b[0m\u001b[0mx\u001b[0m\u001b[0;34m[\u001b[0m\u001b[0;36m0\u001b[0m\u001b[0;34m]\u001b[0m\u001b[0;34m.\u001b[0m\u001b[0mid\u001b[0m \u001b[0;32mfor\u001b[0m \u001b[0mx\u001b[0m \u001b[0;32min\u001b[0m \u001b[0mcursor\u001b[0m\u001b[0;34m]\u001b[0m\u001b[0;34m\u001b[0m\u001b[0;34m\u001b[0m\u001b[0m\n\u001b[1;32m      5\u001b[0m \u001b[0;31m# print(t[0])\u001b[0m\u001b[0;34m\u001b[0m\u001b[0;34m\u001b[0m\u001b[0m\n",
      "\u001b[0;32m~/.virtualenvs/orgs/lib/python3.9/site-packages/age/age.py\u001b[0m in \u001b[0;36mexecCypher\u001b[0;34m(self, cypherStmt, cols, params)\u001b[0m\n\u001b[1;32m    156\u001b[0m \u001b[0;34m\u001b[0m\u001b[0m\n\u001b[1;32m    157\u001b[0m     \u001b[0;32mdef\u001b[0m \u001b[0mexecCypher\u001b[0m\u001b[0;34m(\u001b[0m\u001b[0mself\u001b[0m\u001b[0;34m,\u001b[0m \u001b[0mcypherStmt\u001b[0m\u001b[0;34m:\u001b[0m\u001b[0mstr\u001b[0m\u001b[0;34m,\u001b[0m \u001b[0mcols\u001b[0m\u001b[0;34m:\u001b[0m\u001b[0mlist\u001b[0m\u001b[0;34m=\u001b[0m\u001b[0;32mNone\u001b[0m\u001b[0;34m,\u001b[0m \u001b[0mparams\u001b[0m\u001b[0;34m:\u001b[0m\u001b[0mtuple\u001b[0m\u001b[0;34m=\u001b[0m\u001b[0;32mNone\u001b[0m\u001b[0;34m)\u001b[0m \u001b[0;34m->\u001b[0m \u001b[0mext\u001b[0m\u001b[0;34m.\u001b[0m\u001b[0mcursor\u001b[0m \u001b[0;34m:\u001b[0m\u001b[0;34m\u001b[0m\u001b[0;34m\u001b[0m\u001b[0m\n\u001b[0;32m--> 158\u001b[0;31m         \u001b[0;32mreturn\u001b[0m \u001b[0mexecCypher\u001b[0m\u001b[0;34m(\u001b[0m\u001b[0mself\u001b[0m\u001b[0;34m.\u001b[0m\u001b[0mconnection\u001b[0m\u001b[0;34m,\u001b[0m \u001b[0mself\u001b[0m\u001b[0;34m.\u001b[0m\u001b[0mgraphName\u001b[0m\u001b[0;34m,\u001b[0m \u001b[0mcypherStmt\u001b[0m\u001b[0;34m,\u001b[0m \u001b[0mcols\u001b[0m\u001b[0;34m=\u001b[0m\u001b[0mcols\u001b[0m\u001b[0;34m,\u001b[0m \u001b[0mparams\u001b[0m\u001b[0;34m=\u001b[0m\u001b[0mparams\u001b[0m\u001b[0;34m)\u001b[0m\u001b[0;34m\u001b[0m\u001b[0;34m\u001b[0m\u001b[0m\n\u001b[0m\u001b[1;32m    159\u001b[0m \u001b[0;34m\u001b[0m\u001b[0m\n\u001b[1;32m    160\u001b[0m     \u001b[0;32mdef\u001b[0m \u001b[0mcypher\u001b[0m\u001b[0;34m(\u001b[0m\u001b[0mself\u001b[0m\u001b[0;34m,\u001b[0m \u001b[0mcursor\u001b[0m\u001b[0;34m:\u001b[0m\u001b[0mext\u001b[0m\u001b[0;34m.\u001b[0m\u001b[0mcursor\u001b[0m\u001b[0;34m,\u001b[0m \u001b[0mcypherStmt\u001b[0m\u001b[0;34m:\u001b[0m\u001b[0mstr\u001b[0m\u001b[0;34m,\u001b[0m \u001b[0mcols\u001b[0m\u001b[0;34m:\u001b[0m\u001b[0mlist\u001b[0m\u001b[0;34m=\u001b[0m\u001b[0;32mNone\u001b[0m\u001b[0;34m,\u001b[0m \u001b[0mparams\u001b[0m\u001b[0;34m:\u001b[0m\u001b[0mtuple\u001b[0m\u001b[0;34m=\u001b[0m\u001b[0;32mNone\u001b[0m\u001b[0;34m)\u001b[0m \u001b[0;34m->\u001b[0m \u001b[0mext\u001b[0m\u001b[0;34m.\u001b[0m\u001b[0mcursor\u001b[0m \u001b[0;34m:\u001b[0m\u001b[0;34m\u001b[0m\u001b[0;34m\u001b[0m\u001b[0m\n",
      "\u001b[0;32m~/.virtualenvs/orgs/lib/python3.9/site-packages/age/age.py\u001b[0m in \u001b[0;36mexecCypher\u001b[0;34m(conn, graphName, cypherStmt, cols, params)\u001b[0m\n\u001b[1;32m    112\u001b[0m     \u001b[0;32mexcept\u001b[0m \u001b[0mException\u001b[0m \u001b[0;32mas\u001b[0m \u001b[0mcause\u001b[0m\u001b[0;34m:\u001b[0m\u001b[0;34m\u001b[0m\u001b[0;34m\u001b[0m\u001b[0m\n\u001b[1;32m    113\u001b[0m         \u001b[0mconn\u001b[0m\u001b[0;34m.\u001b[0m\u001b[0mrollback\u001b[0m\u001b[0;34m(\u001b[0m\u001b[0;34m)\u001b[0m\u001b[0;34m\u001b[0m\u001b[0;34m\u001b[0m\u001b[0m\n\u001b[0;32m--> 114\u001b[0;31m         \u001b[0;32mraise\u001b[0m \u001b[0mSqlExcutionError\u001b[0m\u001b[0;34m(\u001b[0m\u001b[0;34m\"Excution ERR[\"\u001b[0m \u001b[0;34m+\u001b[0m \u001b[0mstr\u001b[0m\u001b[0;34m(\u001b[0m\u001b[0mcause\u001b[0m\u001b[0;34m)\u001b[0m \u001b[0;34m+\u001b[0m\u001b[0;34m\"](\"\u001b[0m \u001b[0;34m+\u001b[0m \u001b[0mstmt\u001b[0m \u001b[0;34m+\u001b[0m\u001b[0;34m\")\"\u001b[0m\u001b[0;34m,\u001b[0m \u001b[0mcause\u001b[0m\u001b[0;34m)\u001b[0m\u001b[0;34m\u001b[0m\u001b[0;34m\u001b[0m\u001b[0m\n\u001b[0m\u001b[1;32m    115\u001b[0m \u001b[0;34m\u001b[0m\u001b[0m\n\u001b[1;32m    116\u001b[0m \u001b[0;34m\u001b[0m\u001b[0m\n",
      "\u001b[0;31mSqlExcutionError\u001b[0m: (\"Excution ERR[function cypher(unknown, unknown) does not exist\\nLINE 1: SELECT * from cypher('text_test', $$ MATCH (n:node {tag: 'ht...\\n                      ^\\nHINT:  No function matches the given name and argument types. You might need to add explicit type casts.\\n](SELECT * from cypher('text_test', $$ MATCH (n:node {tag: 'html'}) RETURN n $$) as (v agtype);)\", UndefinedFunction(\"function cypher(unknown, unknown) does not exist\\nLINE 1: SELECT * from cypher('text_test', $$ MATCH (n:node {tag: 'ht...\\n                      ^\\nHINT:  No function matches the given name and argument types. You might need to add explicit type casts.\\n\"))"
     ]
    }
   ],
   "source": [
    "soup = BeautifulSoup()\n",
    "\n",
    "cursor = ag.execCypher(\"MATCH (n:node {tag: 'html'}) RETURN n\")    \n",
    "t = [x[0].id for x in cursor]\n",
    "# print(t[0])\n",
    "\n",
    "def html_graph(t_id):    \n",
    "    parent = ag.execCypher(\"MATCH (V:node) WHERE id(V) = %s RETURN V\", params=(t_id,))\n",
    "    p = [x[0] for x in parent]\n",
    "    pp = p[0][\"tag\"]       \n",
    "    # parent_tag = soup.new_tag(name=p[0][\"tag\"])\n",
    "    # print(f\"{parent_tag}\")\n",
    "    #soup.append(parent_tag)\n",
    "    print(pp)\n",
    "\n",
    "    children = ag.execCypher(\"MATCH (v:node)-[R:connect]->(V2) WHERE id(v) = 844424930131969 RETURN v, V2\", cols=['v', 'V2'], params=(p[0].id,))\n",
    "    for c in children:\n",
    "        print(c)\n",
    "\n",
    "print(t[0])\n",
    "html_graph(t[0])"
   ]
  },
  {
   "cell_type": "code",
   "execution_count": null,
   "id": "3e2b1292",
   "metadata": {
    "collapsed": false
   },
   "outputs": [],
   "source": [
    "soup = BeautifulSoup()\n",
    "\n",
    "cursor = ag.execCypher(\"MATCH (n:node {tag: 'html'}) RETURN n\")    \n",
    "t = [x[0].id for x in cursor]\n",
    "print(t[0])\n",
    "\n",
    "def html_nodes(t_id):    \n",
    "    parent = ag.execCypher(\"MATCH (n:node) WHERE id(n) = %s RETURN n\", params=(t_id,))\n",
    "    p = [x[0] for x in parent]\n",
    "    pp = p[0][\"tag\"]       \n",
    "    # parent_tag = soup.new_tag(name=p[0][\"tag\"])\n",
    "    # print(f\"{parent_tag}\")\n",
    "    soup.append(parent_tag)\n",
    "    children = ag.execCypher(\"MATCH (v:node)-[R:connect]->(V2) WHERE id(v) = %s RETURN V2\", params=(p[0].id,))\n",
    "    for c in children:\n",
    "        if parent is None:            \n",
    "            parent_tag = el = soup.new_tag(name=c[0][\"tag\"])\n",
    "            soup.append(parent_tag)\n",
    "        else:\n",
    "            el = soup.new_tag(name=c[0][\"tag\"])\n",
    "            parent_tag.append(el)            \n",
    "        html_nodes(c[0].id, el)\n",
    "    return parent\n",
    "\n",
    "\n",
    "html_nodes(t[0], \"html\")"
   ]
  },
  {
   "cell_type": "code",
   "execution_count": 2,
   "id": "16c8b83d",
   "metadata": {
    "collapsed": false
   },
   "outputs": [
    {
     "name": "stdout",
     "output_type": "stream",
     "text": [
      "{label:node, id:844424930131970, properties:{tag: head, attrib: null, }}::VERTEX\n",
      "{label:node, id:844424930131971, properties:{tag: meta, attrib: {\\\"charset\\\": \\\"UTF-8\\\"}, }}::VERTEX\n",
      "{label:node, id:844424930131972, properties:{tag: title, attrib: null, }}::VERTEX\n",
      "{label:node, id:844424930131973, properties:{tag: body, attrib: null, }}::VERTEX\n",
      "{label:node, id:844424930131974, properties:{tag: ul, attrib: {\\\"class\\\": \\\"menu\\\"}, }}::VERTEX\n",
      "{label:node, id:844424930131975, properties:{tag: div, attrib: {\\\"class\\\": \\\"itm\\\"}, }}::VERTEX\n",
      "{label:node, id:844424930131976, properties:{tag: div, attrib: {\\\"class\\\": \\\"itm\\\"}, }}::VERTEX\n",
      "{label:node, id:844424930131977, properties:{tag: div, attrib: {\\\"class\\\": \\\"itm\\\"}, }}::VERTEX\n",
      "{label:node, id:844424930131978, properties:{tag: div, attrib: {\\\"id\\\": \\\"idone\\\", \\\"class\\\": \\\"classone\\\"}, }}::VERTEX\n",
      "{label:node, id:844424930131979, properties:{tag: ul, attrib: {\\\"class\\\": \\\"listing\\\"}, }}::VERTEX\n",
      "{label:node, id:844424930131980, properties:{tag: li, attrib: {\\\"class\\\": \\\"item1\\\"}, }}::VERTEX\n",
      "{label:node, id:844424930131981, properties:{tag: li, attrib: {\\\"class\\\": \\\"item2\\\"}, }}::VERTEX\n",
      "{label:node, id:844424930131982, properties:{tag: li, attrib: {\\\"class\\\": \\\"item3\\\"}, }}::VERTEX\n",
      "{label:node, id:844424930131983, properties:{tag: div, attrib: {\\\"id\\\": \\\"innerone\\\"}, }}::VERTEX\n",
      "{label:node, id:844424930131984, properties:{tag: h1, attrib: null, }}::VERTEX\n",
      "{label:node, id:844424930131985, properties:{tag: div, attrib: {\\\"id\\\": \\\"innertwo\\\"}, }}::VERTEX\n",
      "{label:node, id:844424930131986, properties:{tag: h2, attrib: null, }}::VERTEX\n",
      "{label:node, id:844424930131987, properties:{tag: div, attrib: {\\\"id\\\": \\\"second\\\", \\\"class\\\": \\\"below\\\"}, }}::VERTEX\n",
      "{label:node, id:844424930131988, properties:{tag: div, attrib: {\\\"class\\\": \\\"inner\\\"}, }}::VERTEX\n",
      "{label:node, id:844424930131989, properties:{tag: h1, attrib: null, }}::VERTEX\n",
      "{label:node, id:844424930131990, properties:{tag: h1, attrib: null, }}::VERTEX\n",
      "{label:node, id:844424930131991, properties:{tag: h2, attrib: null, }}::VERTEX\n",
      "[844424930131969, {label:node, id:844424930131970, properties:{tag: head, attrib: null, }}::VERTEX, {label:node, id:844424930131971, properties:{tag: meta, attrib: {\\\"charset\\\": \\\"UTF-8\\\"}, }}::VERTEX, {label:node, id:844424930131972, properties:{tag: title, attrib: null, }}::VERTEX, {label:node, id:844424930131973, properties:{tag: body, attrib: null, }}::VERTEX, {label:node, id:844424930131974, properties:{tag: ul, attrib: {\\\"class\\\": \\\"menu\\\"}, }}::VERTEX, {label:node, id:844424930131975, properties:{tag: div, attrib: {\\\"class\\\": \\\"itm\\\"}, }}::VERTEX, {label:node, id:844424930131976, properties:{tag: div, attrib: {\\\"class\\\": \\\"itm\\\"}, }}::VERTEX, {label:node, id:844424930131977, properties:{tag: div, attrib: {\\\"class\\\": \\\"itm\\\"}, }}::VERTEX, {label:node, id:844424930131978, properties:{tag: div, attrib: {\\\"id\\\": \\\"idone\\\", \\\"class\\\": \\\"classone\\\"}, }}::VERTEX, {label:node, id:844424930131979, properties:{tag: ul, attrib: {\\\"class\\\": \\\"listing\\\"}, }}::VERTEX, {label:node, id:844424930131980, properties:{tag: li, attrib: {\\\"class\\\": \\\"item1\\\"}, }}::VERTEX, {label:node, id:844424930131981, properties:{tag: li, attrib: {\\\"class\\\": \\\"item2\\\"}, }}::VERTEX, {label:node, id:844424930131982, properties:{tag: li, attrib: {\\\"class\\\": \\\"item3\\\"}, }}::VERTEX, {label:node, id:844424930131983, properties:{tag: div, attrib: {\\\"id\\\": \\\"innerone\\\"}, }}::VERTEX, {label:node, id:844424930131984, properties:{tag: h1, attrib: null, }}::VERTEX, {label:node, id:844424930131985, properties:{tag: div, attrib: {\\\"id\\\": \\\"innertwo\\\"}, }}::VERTEX, {label:node, id:844424930131986, properties:{tag: h2, attrib: null, }}::VERTEX, {label:node, id:844424930131987, properties:{tag: div, attrib: {\\\"id\\\": \\\"second\\\", \\\"class\\\": \\\"below\\\"}, }}::VERTEX, {label:node, id:844424930131988, properties:{tag: div, attrib: {\\\"class\\\": \\\"inner\\\"}, }}::VERTEX, {label:node, id:844424930131989, properties:{tag: h1, attrib: null, }}::VERTEX, {label:node, id:844424930131990, properties:{tag: h1, attrib: null, }}::VERTEX, {label:node, id:844424930131991, properties:{tag: h2, attrib: null, }}::VERTEX]\n"
     ]
    }
   ],
   "source": [
    "def graph_ndes(t_id):\n",
    "    # t = []\n",
    "    children = ag.execCypher(\"MATCH (v:node)-[R:connect]->(V2) WHERE id(v) = %s RETURN V2\", params=(t_id,))\n",
    "    for c in children:\n",
    "        print(c[0])\n",
    "        t.append(c[0])\n",
    "        graph_ndes(c[0].id)\n",
    "    return(t)\n",
    "    \n",
    "cursor = ag.execCypher(\"MATCH (n:node {tag: 'html'}) RETURN n\")    \n",
    "t = [x[0].id for x in cursor]\n",
    "# print(t[0])\n",
    "dumped = graph_ndes(t[0])\n",
    "print(dumped)\n",
    "    "
   ]
  },
  {
   "cell_type": "code",
   "execution_count": 20,
   "id": "00ee326c",
   "metadata": {
    "collapsed": false
   },
   "outputs": [
    {
     "name": "stdout",
     "output_type": "stream",
     "text": [
      "844424930131969\n",
      "Parent ----------html\n",
      "844424930131969 844424930131969\n",
      "head\n",
      "Parent ----------head\n",
      "844424930131970 844424930131970\n",
      "meta\n",
      "Parent ----------meta\n",
      "844424930131970 844424930131970\n",
      "title\n",
      "Parent ----------title\n",
      "844424930131969 844424930131969\n",
      "body\n",
      "Parent ----------body\n",
      "844424930131973 844424930131973\n",
      "ul\n",
      "Parent ----------ul\n",
      "844424930131974 844424930131974\n",
      "div\n",
      "Parent ----------div\n",
      "844424930131974 844424930131974\n",
      "div\n",
      "Parent ----------div\n",
      "844424930131974 844424930131974\n",
      "div\n",
      "Parent ----------div\n",
      "844424930131973 844424930131973\n",
      "div\n",
      "Parent ----------div\n",
      "844424930131978 844424930131978\n",
      "ul\n",
      "Parent ----------ul\n",
      "844424930131979 844424930131979\n",
      "li\n",
      "Parent ----------li\n",
      "844424930131979 844424930131979\n",
      "li\n",
      "Parent ----------li\n",
      "844424930131979 844424930131979\n",
      "li\n",
      "Parent ----------li\n",
      "844424930131978 844424930131978\n",
      "div\n",
      "Parent ----------div\n",
      "844424930131983 844424930131983\n",
      "h1\n",
      "Parent ----------h1\n",
      "844424930131978 844424930131978\n",
      "div\n",
      "Parent ----------div\n",
      "844424930131985 844424930131985\n",
      "h2\n",
      "Parent ----------h2\n",
      "844424930131973 844424930131973\n",
      "div\n",
      "Parent ----------div\n",
      "844424930131987 844424930131987\n",
      "div\n",
      "Parent ----------div\n",
      "844424930131988 844424930131988\n",
      "h1\n",
      "Parent ----------h1\n",
      "844424930131988 844424930131988\n",
      "h1\n",
      "Parent ----------h1\n",
      "844424930131988 844424930131988\n",
      "h2\n",
      "Parent ----------h2\n"
     ]
    }
   ],
   "source": [
    "# Import Module\n",
    "\n",
    "soup = BeautifulSoup()\n",
    "\n",
    "cursor = ag.execCypher(\"MATCH (n:node {tag: 'html'}) RETURN n\")    \n",
    "t = [x[0].id for x in cursor]\n",
    "print(t[0])\n",
    "\n",
    "def graph_dom(t_id):\n",
    "    parent = ag.execCypher(\"MATCH (n:node) WHERE id(n) = %s RETURN n\", params=(t_id,))\n",
    "    p = [x[0] for x in parent]\n",
    "    pp = p[0][\"tag\"]       \n",
    "    parent_tag = soup.new_tag(name=p[0][\"tag\"])\n",
    "    soup.append(parent_tag)\n",
    "    # d = None\n",
    "    children = ag.execCypher(\"MATCH (v:node)-[R:connect]->(V2) WHERE id(v) = %s RETURN V2\", params=(p[0].id,))\n",
    "    print(f\"Parent ----------{pp}\")\n",
    "    # print(f\"Children: {children}\")\n",
    "    for d in children:\n",
    "        check_parent = ag.execCypher(\"MATCH (v:node)<-[R:connect]-(V2) WHERE id(v) = %s RETURN V2\", params=(d[0].id,))\n",
    "        cp = [c[0] for c in check_parent]\n",
    "        # print(f\"{pp}---------------------\")\n",
    "        print(p[0].id, cp[0].id)\n",
    "        if (p[0].id == cp[0].id):\n",
    "            children_tag = soup.new_tag(name=d[0][\"tag\"])\n",
    "            parent_tag.append(children_tag)\n",
    "            print(d[0][\"tag\"])\n",
    "            graph_dom(d[0].id)                         \n",
    "\n",
    "graph_dom(t[0])\n",
    "\n",
    "file_soup = soup.prettify()\n",
    "with open(\"helloworld.html\", \"w\") as file:\n",
    "    file.write(str(file_soup))"
   ]
  },
  {
   "cell_type": "code",
   "execution_count": 7,
   "id": "e2d3b5c8",
   "metadata": {
    "collapsed": false
   },
   "outputs": [
    {
     "name": "stdout",
     "output_type": "stream",
     "text": [
      "Parent ----------html\n",
      "Parent ----------head\n",
      "Parent ----------meta\n",
      "Parent ----------title\n",
      "Parent ----------body\n",
      "Parent ----------ul\n",
      "Parent ----------div\n",
      "Parent ----------div\n",
      "Parent ----------div\n",
      "Parent ----------div\n",
      "Parent ----------ul\n",
      "Parent ----------li\n",
      "Parent ----------li\n",
      "Parent ----------li\n",
      "Parent ----------div\n",
      "Parent ----------h1\n",
      "Parent ----------div\n",
      "Parent ----------h2\n",
      "Parent ----------div\n",
      "Parent ----------div\n",
      "Parent ----------h1\n",
      "Parent ----------h1\n",
      "Parent ----------h2\n",
      "[844424930131969, {label:node, id:844424930131970, properties:{tag: head, attrib: null, }}::VERTEX, {label:node, id:844424930131971, properties:{tag: meta, attrib: {\\\"charset\\\": \\\"UTF-8\\\"}, }}::VERTEX, {label:node, id:844424930131972, properties:{tag: title, attrib: null, }}::VERTEX, {label:node, id:844424930131973, properties:{tag: body, attrib: null, }}::VERTEX, {label:node, id:844424930131974, properties:{tag: ul, attrib: {\\\"class\\\": \\\"menu\\\"}, }}::VERTEX, {label:node, id:844424930131975, properties:{tag: div, attrib: {\\\"class\\\": \\\"itm\\\"}, }}::VERTEX, {label:node, id:844424930131976, properties:{tag: div, attrib: {\\\"class\\\": \\\"itm\\\"}, }}::VERTEX, {label:node, id:844424930131977, properties:{tag: div, attrib: {\\\"class\\\": \\\"itm\\\"}, }}::VERTEX, {label:node, id:844424930131978, properties:{tag: div, attrib: {\\\"id\\\": \\\"idone\\\", \\\"class\\\": \\\"classone\\\"}, }}::VERTEX, {label:node, id:844424930131979, properties:{tag: ul, attrib: {\\\"class\\\": \\\"listing\\\"}, }}::VERTEX, {label:node, id:844424930131980, properties:{tag: li, attrib: {\\\"class\\\": \\\"item1\\\"}, }}::VERTEX, {label:node, id:844424930131981, properties:{tag: li, attrib: {\\\"class\\\": \\\"item2\\\"}, }}::VERTEX, {label:node, id:844424930131982, properties:{tag: li, attrib: {\\\"class\\\": \\\"item3\\\"}, }}::VERTEX, {label:node, id:844424930131983, properties:{tag: div, attrib: {\\\"id\\\": \\\"innerone\\\"}, }}::VERTEX, {label:node, id:844424930131984, properties:{tag: h1, attrib: null, }}::VERTEX, {label:node, id:844424930131985, properties:{tag: div, attrib: {\\\"id\\\": \\\"innertwo\\\"}, }}::VERTEX, {label:node, id:844424930131986, properties:{tag: h2, attrib: null, }}::VERTEX, {label:node, id:844424930131987, properties:{tag: div, attrib: {\\\"id\\\": \\\"second\\\", \\\"class\\\": \\\"below\\\"}, }}::VERTEX, {label:node, id:844424930131988, properties:{tag: div, attrib: {\\\"class\\\": \\\"inner\\\"}, }}::VERTEX, {label:node, id:844424930131989, properties:{tag: h1, attrib: null, }}::VERTEX, {label:node, id:844424930131990, properties:{tag: h1, attrib: null, }}::VERTEX, {label:node, id:844424930131991, properties:{tag: h2, attrib: null, }}::VERTEX, ({label:node, id:844424930131970, properties:{tag: head, attrib: null, }}::VERTEX,), ({label:node, id:844424930131971, properties:{tag: meta, attrib: {\\\"charset\\\": \\\"UTF-8\\\"}, }}::VERTEX,), ({label:node, id:844424930131972, properties:{tag: title, attrib: null, }}::VERTEX,), ({label:node, id:844424930131973, properties:{tag: body, attrib: null, }}::VERTEX,), ({label:node, id:844424930131974, properties:{tag: ul, attrib: {\\\"class\\\": \\\"menu\\\"}, }}::VERTEX,), ({label:node, id:844424930131975, properties:{tag: div, attrib: {\\\"class\\\": \\\"itm\\\"}, }}::VERTEX,), ({label:node, id:844424930131976, properties:{tag: div, attrib: {\\\"class\\\": \\\"itm\\\"}, }}::VERTEX,), ({label:node, id:844424930131977, properties:{tag: div, attrib: {\\\"class\\\": \\\"itm\\\"}, }}::VERTEX,), ({label:node, id:844424930131978, properties:{tag: div, attrib: {\\\"id\\\": \\\"idone\\\", \\\"class\\\": \\\"classone\\\"}, }}::VERTEX,), ({label:node, id:844424930131979, properties:{tag: ul, attrib: {\\\"class\\\": \\\"listing\\\"}, }}::VERTEX,), ({label:node, id:844424930131980, properties:{tag: li, attrib: {\\\"class\\\": \\\"item1\\\"}, }}::VERTEX,), ({label:node, id:844424930131981, properties:{tag: li, attrib: {\\\"class\\\": \\\"item2\\\"}, }}::VERTEX,), ({label:node, id:844424930131982, properties:{tag: li, attrib: {\\\"class\\\": \\\"item3\\\"}, }}::VERTEX,), ({label:node, id:844424930131983, properties:{tag: div, attrib: {\\\"id\\\": \\\"innerone\\\"}, }}::VERTEX,), ({label:node, id:844424930131984, properties:{tag: h1, attrib: null, }}::VERTEX,), ({label:node, id:844424930131985, properties:{tag: div, attrib: {\\\"id\\\": \\\"innertwo\\\"}, }}::VERTEX,), ({label:node, id:844424930131986, properties:{tag: h2, attrib: null, }}::VERTEX,), ({label:node, id:844424930131987, properties:{tag: div, attrib: {\\\"id\\\": \\\"second\\\", \\\"class\\\": \\\"below\\\"}, }}::VERTEX,), ({label:node, id:844424930131988, properties:{tag: div, attrib: {\\\"class\\\": \\\"inner\\\"}, }}::VERTEX,), ({label:node, id:844424930131989, properties:{tag: h1, attrib: null, }}::VERTEX,), ({label:node, id:844424930131990, properties:{tag: h1, attrib: null, }}::VERTEX,), ({label:node, id:844424930131991, properties:{tag: h2, attrib: null, }}::VERTEX,)]\n"
     ]
    }
   ],
   "source": [
    "def graphed_dom(t_id):\n",
    "    parent = ag.execCypher(\"MATCH (n:node) WHERE id(n) = %s RETURN n\", params=(t_id,))\n",
    "    p = [x[0] for x in parent]\n",
    "    pp = p[0][\"tag\"]        \n",
    "    children = ag.execCypher(\"MATCH (v:node)-[R:connect]->(V2) WHERE id(v) = %s RETURN V2\", params=(p[0].id,))\n",
    "    print(f\"Parent ----------{pp}\")\n",
    "    # print(f\"Children: {children}\")\n",
    "    # t = []\n",
    "    for d in children:\n",
    "        t.append(d)\n",
    "        graphed_dom(d[0].id)\n",
    "    return(t)\n",
    "graphed = graphed_dom(t[0])\n",
    "print(graphed)"
   ]
  },
  {
   "cell_type": "code",
   "execution_count": 63,
   "id": "1d68e2e8",
   "metadata": {
    "collapsed": false
   },
   "outputs": [
    {
     "ename": "TypeError",
     "evalue": "'NoneType' object is not callable",
     "output_type": "error",
     "traceback": [
      "\u001b[0;31m---------------------------------------------------------------------------\u001b[0m",
      "\u001b[0;31mTypeError\u001b[0m                                 Traceback (most recent call last)",
      "\u001b[0;32m/tmp/ipykernel_197793/1080725061.py\u001b[0m in \u001b[0;36m<module>\u001b[0;34m\u001b[0m\n\u001b[1;32m      3\u001b[0m \u001b[0mth\u001b[0m \u001b[0;34m=\u001b[0m \u001b[0msp\u001b[0m\u001b[0;34m.\u001b[0m\u001b[0mfind\u001b[0m\u001b[0;34m(\u001b[0m\u001b[0mht\u001b[0m\u001b[0;34m)\u001b[0m\u001b[0;34m\u001b[0m\u001b[0;34m\u001b[0m\u001b[0m\n\u001b[1;32m      4\u001b[0m \u001b[0mhd\u001b[0m \u001b[0;34m=\u001b[0m \u001b[0msp\u001b[0m\u001b[0;34m.\u001b[0m\u001b[0mnew_tag\u001b[0m\u001b[0;34m(\u001b[0m\u001b[0;34m\"head\"\u001b[0m\u001b[0;34m)\u001b[0m\u001b[0;34m\u001b[0m\u001b[0;34m\u001b[0m\u001b[0m\n\u001b[0;32m----> 5\u001b[0;31m \u001b[0mdv\u001b[0m \u001b[0;34m=\u001b[0m \u001b[0msoup\u001b[0m\u001b[0;34m.\u001b[0m\u001b[0mselect_one\u001b[0m\u001b[0;34m(\u001b[0m\u001b[0mht\u001b[0m\u001b[0;34m)\u001b[0m\u001b[0;34m\u001b[0m\u001b[0;34m\u001b[0m\u001b[0m\n\u001b[0m\u001b[1;32m      6\u001b[0m \u001b[0msp\u001b[0m\u001b[0;34m.\u001b[0m\u001b[0mappend\u001b[0m\u001b[0;34m(\u001b[0m\u001b[0mdv\u001b[0m\u001b[0;34m)\u001b[0m\u001b[0;34m\u001b[0m\u001b[0;34m\u001b[0m\u001b[0m\n\u001b[1;32m      7\u001b[0m \u001b[0mbd\u001b[0m \u001b[0;34m=\u001b[0m \u001b[0msp\u001b[0m\u001b[0;34m.\u001b[0m\u001b[0mnew_tag\u001b[0m\u001b[0;34m(\u001b[0m\u001b[0;34m\"body\"\u001b[0m\u001b[0;34m)\u001b[0m\u001b[0;34m\u001b[0m\u001b[0;34m\u001b[0m\u001b[0m\n",
      "\u001b[0;32m~/.virtualenvs/orgs/lib/python3.9/site-packages/bs4/element.py\u001b[0m in \u001b[0;36mselect_one\u001b[0;34m(self, selector, namespaces, **kwargs)\u001b[0m\n\u001b[1;32m   1832\u001b[0m         \u001b[0;34m:\u001b[0m\u001b[0mrtype\u001b[0m\u001b[0;34m:\u001b[0m \u001b[0mbs4\u001b[0m\u001b[0;34m.\u001b[0m\u001b[0melement\u001b[0m\u001b[0;34m.\u001b[0m\u001b[0mTag\u001b[0m\u001b[0;34m\u001b[0m\u001b[0;34m\u001b[0m\u001b[0m\n\u001b[1;32m   1833\u001b[0m         \"\"\"\n\u001b[0;32m-> 1834\u001b[0;31m         \u001b[0mvalue\u001b[0m \u001b[0;34m=\u001b[0m \u001b[0mself\u001b[0m\u001b[0;34m.\u001b[0m\u001b[0mselect\u001b[0m\u001b[0;34m(\u001b[0m\u001b[0mselector\u001b[0m\u001b[0;34m,\u001b[0m \u001b[0mnamespaces\u001b[0m\u001b[0;34m,\u001b[0m \u001b[0;36m1\u001b[0m\u001b[0;34m,\u001b[0m \u001b[0;34m**\u001b[0m\u001b[0mkwargs\u001b[0m\u001b[0;34m)\u001b[0m\u001b[0;34m\u001b[0m\u001b[0;34m\u001b[0m\u001b[0m\n\u001b[0m\u001b[1;32m   1835\u001b[0m         \u001b[0;32mif\u001b[0m \u001b[0mvalue\u001b[0m\u001b[0;34m:\u001b[0m\u001b[0;34m\u001b[0m\u001b[0;34m\u001b[0m\u001b[0m\n\u001b[1;32m   1836\u001b[0m             \u001b[0;32mreturn\u001b[0m \u001b[0mvalue\u001b[0m\u001b[0;34m[\u001b[0m\u001b[0;36m0\u001b[0m\u001b[0;34m]\u001b[0m\u001b[0;34m\u001b[0m\u001b[0;34m\u001b[0m\u001b[0m\n",
      "\u001b[0;32m~/.virtualenvs/orgs/lib/python3.9/site-packages/bs4/element.py\u001b[0m in \u001b[0;36mselect\u001b[0;34m(self, selector, namespaces, limit, **kwargs)\u001b[0m\n\u001b[1;32m   1867\u001b[0m             )\n\u001b[1;32m   1868\u001b[0m \u001b[0;34m\u001b[0m\u001b[0m\n\u001b[0;32m-> 1869\u001b[0;31m         \u001b[0mresults\u001b[0m \u001b[0;34m=\u001b[0m \u001b[0msoupsieve\u001b[0m\u001b[0;34m.\u001b[0m\u001b[0mselect\u001b[0m\u001b[0;34m(\u001b[0m\u001b[0mselector\u001b[0m\u001b[0;34m,\u001b[0m \u001b[0mself\u001b[0m\u001b[0;34m,\u001b[0m \u001b[0mnamespaces\u001b[0m\u001b[0;34m,\u001b[0m \u001b[0mlimit\u001b[0m\u001b[0;34m,\u001b[0m \u001b[0;34m**\u001b[0m\u001b[0mkwargs\u001b[0m\u001b[0;34m)\u001b[0m\u001b[0;34m\u001b[0m\u001b[0;34m\u001b[0m\u001b[0m\n\u001b[0m\u001b[1;32m   1870\u001b[0m \u001b[0;34m\u001b[0m\u001b[0m\n\u001b[1;32m   1871\u001b[0m         \u001b[0;31m# We do this because it's more consistent and because\u001b[0m\u001b[0;34m\u001b[0m\u001b[0;34m\u001b[0m\u001b[0m\n",
      "\u001b[0;32m~/.virtualenvs/orgs/lib/python3.9/site-packages/soupsieve/__init__.py\u001b[0m in \u001b[0;36mselect\u001b[0;34m(select, tag, namespaces, limit, flags, **kwargs)\u001b[0m\n\u001b[1;32m     96\u001b[0m     \u001b[0;34m\"\"\"Select the specified tags.\"\"\"\u001b[0m\u001b[0;34m\u001b[0m\u001b[0;34m\u001b[0m\u001b[0m\n\u001b[1;32m     97\u001b[0m \u001b[0;34m\u001b[0m\u001b[0m\n\u001b[0;32m---> 98\u001b[0;31m     \u001b[0;32mreturn\u001b[0m \u001b[0mcompile\u001b[0m\u001b[0;34m(\u001b[0m\u001b[0mselect\u001b[0m\u001b[0;34m,\u001b[0m \u001b[0mnamespaces\u001b[0m\u001b[0;34m,\u001b[0m \u001b[0mflags\u001b[0m\u001b[0;34m,\u001b[0m \u001b[0;34m**\u001b[0m\u001b[0mkwargs\u001b[0m\u001b[0;34m)\u001b[0m\u001b[0;34m.\u001b[0m\u001b[0mselect\u001b[0m\u001b[0;34m(\u001b[0m\u001b[0mtag\u001b[0m\u001b[0;34m,\u001b[0m \u001b[0mlimit\u001b[0m\u001b[0;34m)\u001b[0m\u001b[0;34m\u001b[0m\u001b[0;34m\u001b[0m\u001b[0m\n\u001b[0m\u001b[1;32m     99\u001b[0m \u001b[0;34m\u001b[0m\u001b[0m\n\u001b[1;32m    100\u001b[0m \u001b[0;34m\u001b[0m\u001b[0m\n",
      "\u001b[0;32m~/.virtualenvs/orgs/lib/python3.9/site-packages/soupsieve/__init__.py\u001b[0m in \u001b[0;36mcompile\u001b[0;34m(pattern, namespaces, flags, **kwargs)\u001b[0m\n\u001b[1;32m     60\u001b[0m         \u001b[0;32mreturn\u001b[0m \u001b[0mpattern\u001b[0m\u001b[0;34m\u001b[0m\u001b[0;34m\u001b[0m\u001b[0m\n\u001b[1;32m     61\u001b[0m \u001b[0;34m\u001b[0m\u001b[0m\n\u001b[0;32m---> 62\u001b[0;31m     \u001b[0;32mreturn\u001b[0m \u001b[0mcp\u001b[0m\u001b[0;34m.\u001b[0m\u001b[0m_cached_css_compile\u001b[0m\u001b[0;34m(\u001b[0m\u001b[0mpattern\u001b[0m\u001b[0;34m,\u001b[0m \u001b[0mnamespaces\u001b[0m\u001b[0;34m,\u001b[0m \u001b[0mcustom\u001b[0m\u001b[0;34m,\u001b[0m \u001b[0mflags\u001b[0m\u001b[0;34m)\u001b[0m\u001b[0;34m\u001b[0m\u001b[0;34m\u001b[0m\u001b[0m\n\u001b[0m\u001b[1;32m     63\u001b[0m \u001b[0;34m\u001b[0m\u001b[0m\n\u001b[1;32m     64\u001b[0m \u001b[0;34m\u001b[0m\u001b[0m\n",
      "\u001b[0;32m~/.virtualenvs/orgs/lib/python3.9/site-packages/soupsieve/css_parser.py\u001b[0m in \u001b[0;36m_cached_css_compile\u001b[0;34m(pattern, namespaces, custom, flags)\u001b[0m\n\u001b[1;32m    209\u001b[0m     return cm.SoupSieve(\n\u001b[1;32m    210\u001b[0m         \u001b[0mpattern\u001b[0m\u001b[0;34m,\u001b[0m\u001b[0;34m\u001b[0m\u001b[0;34m\u001b[0m\u001b[0m\n\u001b[0;32m--> 211\u001b[0;31m         \u001b[0mCSSParser\u001b[0m\u001b[0;34m(\u001b[0m\u001b[0mpattern\u001b[0m\u001b[0;34m,\u001b[0m \u001b[0mcustom\u001b[0m\u001b[0;34m=\u001b[0m\u001b[0mcustom_selectors\u001b[0m\u001b[0;34m,\u001b[0m \u001b[0mflags\u001b[0m\u001b[0;34m=\u001b[0m\u001b[0mflags\u001b[0m\u001b[0;34m)\u001b[0m\u001b[0;34m.\u001b[0m\u001b[0mprocess_selectors\u001b[0m\u001b[0;34m(\u001b[0m\u001b[0;34m)\u001b[0m\u001b[0;34m,\u001b[0m\u001b[0;34m\u001b[0m\u001b[0;34m\u001b[0m\u001b[0m\n\u001b[0m\u001b[1;32m    212\u001b[0m         \u001b[0mnamespaces\u001b[0m\u001b[0;34m,\u001b[0m\u001b[0;34m\u001b[0m\u001b[0;34m\u001b[0m\u001b[0m\n\u001b[1;32m    213\u001b[0m         \u001b[0mcustom\u001b[0m\u001b[0;34m,\u001b[0m\u001b[0;34m\u001b[0m\u001b[0;34m\u001b[0m\u001b[0m\n",
      "\u001b[0;32m~/.virtualenvs/orgs/lib/python3.9/site-packages/soupsieve/css_parser.py\u001b[0m in \u001b[0;36m__init__\u001b[0;34m(self, selector, custom, flags)\u001b[0m\n\u001b[1;32m    451\u001b[0m         \u001b[0;34m\"\"\"Initialize.\"\"\"\u001b[0m\u001b[0;34m\u001b[0m\u001b[0;34m\u001b[0m\u001b[0m\n\u001b[1;32m    452\u001b[0m \u001b[0;34m\u001b[0m\u001b[0m\n\u001b[0;32m--> 453\u001b[0;31m         \u001b[0mself\u001b[0m\u001b[0;34m.\u001b[0m\u001b[0mpattern\u001b[0m \u001b[0;34m=\u001b[0m \u001b[0mselector\u001b[0m\u001b[0;34m.\u001b[0m\u001b[0mreplace\u001b[0m\u001b[0;34m(\u001b[0m\u001b[0;34m'\\x00'\u001b[0m\u001b[0;34m,\u001b[0m \u001b[0;34m'\\ufffd'\u001b[0m\u001b[0;34m)\u001b[0m\u001b[0;34m\u001b[0m\u001b[0;34m\u001b[0m\u001b[0m\n\u001b[0m\u001b[1;32m    454\u001b[0m         \u001b[0mself\u001b[0m\u001b[0;34m.\u001b[0m\u001b[0mflags\u001b[0m \u001b[0;34m=\u001b[0m \u001b[0mflags\u001b[0m\u001b[0;34m\u001b[0m\u001b[0;34m\u001b[0m\u001b[0m\n\u001b[1;32m    455\u001b[0m         \u001b[0mself\u001b[0m\u001b[0;34m.\u001b[0m\u001b[0mdebug\u001b[0m \u001b[0;34m=\u001b[0m \u001b[0mself\u001b[0m\u001b[0;34m.\u001b[0m\u001b[0mflags\u001b[0m \u001b[0;34m&\u001b[0m \u001b[0mutil\u001b[0m\u001b[0;34m.\u001b[0m\u001b[0mDEBUG\u001b[0m\u001b[0;34m\u001b[0m\u001b[0;34m\u001b[0m\u001b[0m\n",
      "\u001b[0;31mTypeError\u001b[0m: 'NoneType' object is not callable"
     ]
    }
   ],
   "source": [
    "sp = BeautifulSoup()\n",
    "ht = sp.new_tag(\"html\")\n",
    "th = sp.find(ht)\n",
    "hd = sp.new_tag(\"head\")\n",
    "dv = soup.select_one(ht)\n",
    "sp.append(dv)\n",
    "bd = sp.new_tag(\"body\")\n",
    "sp.append(dv)\n",
    "# sp.append(hd)\n",
    "sp.append(bd)\n",
    "print(sp.prettify())"
   ]
  },
  {
   "cell_type": "code",
   "execution_count": 4,
   "id": "92bae14d",
   "metadata": {
    "collapsed": false
   },
   "outputs": [
    {
     "name": "stdout",
     "output_type": "stream",
     "text": [
      "html\n",
      "<html>\n",
      " <head>\n",
      " </head>\n",
      " <body>\n",
      " </body>\n",
      "</html>\n"
     ]
    }
   ],
   "source": [
    "ns = BeautifulSoup()\n",
    "nt = ns.new_tag(\"html\")\n",
    "nb = ns.new_tag(\"body\")\n",
    "ns.append(nt)\n",
    "nd = ns.new_tag(\"head\")\n",
    "nt.append(nd)\n",
    "nt.append(nb)\n",
    "print(nt.name)\n",
    "print(ns.prettify())"
   ]
  },
  {
   "cell_type": "code",
   "execution_count": 5,
   "id": "ca277e3b",
   "metadata": {
    "collapsed": false
   },
   "outputs": [],
   "source": [
    "f = open('helloworld.html','w')\n",
    "\n",
    "hi = \"hello, hi\"\n",
    "\n",
    "message = f\"\"\"<html>\n",
    "<head></head>\n",
    "<body><p>{hi}</p></body>\n",
    "<div>Thist</div>\n",
    "</html>\"\"\"\n",
    "\n",
    "f.write(message)\n",
    "f.close()"
   ]
  },
  {
   "cell_type": "code",
   "execution_count": 1,
   "id": "11bfa9a5",
   "metadata": {
    "collapsed": false
   },
   "outputs": [
    {
     "data": {
      "text/plain": [
       "'/home/afidegnum/projects/org'"
      ]
     },
     "execution_count": 1,
     "metadata": {},
     "output_type": "execute_result"
    }
   ],
   "source": [
    "import os\n",
    "os.getcwd()844424930131970"
   ]
  },
  {
   "cell_type": "code",
   "execution_count": 21,
   "id": "4726ff1f",
   "metadata": {
    "collapsed": false
   },
   "outputs": [
    {
     "name": "stdout",
     "output_type": "stream",
     "text": [
      "---\n",
      "({label:node, id:844424930131969, properties:{tag: html, attrib: {\\\"lang\\\": \\\"en\\\"}, }}::VERTEX,)\n",
      "({label:node, id:844424930131971, properties:{tag: meta, attrib: {\\\"charset\\\": \\\"UTF-8\\\"}, }}::VERTEX,)\n",
      "({label:node, id:844424930131972, properties:{tag: title, attrib: null, }}::VERTEX,)\n",
      "---\n",
      "({label:node, id:844424930131969, properties:{tag: html, attrib: {\\\"lang\\\": \\\"en\\\"}, }}::VERTEX,)\n",
      "({label:node, id:844424930131974, properties:{tag: ul, attrib: {\\\"class\\\": \\\"menu\\\"}, }}::VERTEX,)\n",
      "({label:node, id:844424930131978, properties:{tag: div, attrib: {\\\"id\\\": \\\"idone\\\", \\\"class\\\": \\\"classone\\\"}, }}::VERTEX,)\n",
      "({label:node, id:844424930131987, properties:{tag: div, attrib: {\\\"id\\\": \\\"second\\\", \\\"class\\\": \\\"below\\\"}, }}::VERTEX,)\n"
     ]
    }
   ],
   "source": [
    "# cursor = ag.execCypher(\"MATCH (n:node {tag: 'html'}) RETURN n\")\n",
    "x = 844424930131970\n",
    "children = ag.execCypher(\"MATCH (v:node)-[R:connect]-(V2) WHERE id(v) = 844424930131969 RETURN V2\")\n",
    "for i in children:\n",
    "    print(\"---\")\n",
    "    ch = ag.execCypher(\"MATCH (v:node)-[R:connect]-(V2) WHERE id(v) = %s RETURN V2\", params=(i[0].id,))\n",
    "    for f in ch:\n",
    "        print(f)\n",
    "# t = [x[0].id for x in cursor]\n",
    "# print(t[0])\n",
    "# cursor = ag.execCypher(\"MATCH (v:node)-[R:connect]-(V2) WHERE id(v) = 844424930131969 RETURN v, V2\")\n",
    "# for c in cursor:\n",
    "# print(cur[0].id)\n",
    "# for row in cursor:\n",
    "#     vertex = row[0]\n",
    "#     # print(row)\n",
    "#     # print(vertex.id, vertex.label, vertex[\"tag\"])\n",
    "#     print(vertex[\"tag\"])"
   ]
  },
  {
   "cell_type": "code",
   "execution_count": 29,
   "id": "64b0c6cf",
   "metadata": {
    "collapsed": false
   },
   "outputs": [],
   "source": [
    "ag.close()"
   ]
  },
  {
   "cell_type": "code",
   "execution_count": 5,
   "id": "806989c6",
   "metadata": {
    "collapsed": false
   },
   "outputs": [],
   "source": [
    "# Clear test data\n",
    "age.deleteGraph(ag.connection, GRAPH_NAME)\n",
    "# connection close\n",
    "ag.commit()\n"
   ]
  }
 ],
 "metadata": {
  "kernelspec": {
   "argv": [
    "/home/afidegnum/.virtualenvs/orgs/bin/python",
    "-m",
    "ipykernel_launcher",
    "-f",
    "{connection_file}"
   ],
   "display_name": "Python (orgs)",
   "env": null,
   "interrupt_mode": "signal",
   "language": "python",
   "metadata": {
    "debugger": true
   },
   "name": "orgs"
  },
  "name": "graphdb.ipynb"
 },
 "nbformat": 4,
 "nbformat_minor": 5
}
